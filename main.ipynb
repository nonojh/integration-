{
 "cells": [
  {
   "cell_type": "code",
   "execution_count": 1,
   "metadata": {
    "collapsed": false
   },
   "outputs": [],
   "source": [
    "import pandas as pd\n",
    "import numpy as np\n",
    "from sklearn import metrics, preprocessing\n",
    "import csv\n",
    "import matplotlib.pyplot as plt\n",
    "from sklearn.metrics import precision_recall_curve\n",
    "from sklearn.metrics import average_precision_score\n",
    "from sklearn.ensemble import AdaBoostClassifier\n",
    "from sklearn.tree import DecisionTreeClassifier\n",
    "from sklearn.ensemble import RandomForestClassifier\n",
    "from sklearn.model_selection import train_test_split\n",
    "from sklearn.model_selection import StratifiedKFold\n",
    "from sklearn.metrics import roc_curve, auc\n",
    "from scipy import interp\n",
    "from itertools import cycle\n",
    "from sklearn.model_selection import cross_val_score\n",
    "from sklearn.svm import SVC\n",
    "from sklearn.neural_network import MLPClassifier\n",
    "\n",
    "#filename = \"cdf_score999.csv\"\n",
    "filename = \"Crispr_Data.csv\"\n",
    "Scores = pd.read_csv(filename)\n",
    "CCTop = Scores[\"CCTopSores\"]\n",
    "Cropit = Scores[\"CropitScores\"]\n",
    "MIT = Scores[\"MITscores\"]\n",
    "MITWeb = Scores[\"MITwebsite\"]\n",
    "CFD = Scores[\"cfdScore\"]\n",
    "Label = Scores[\"label\"]\n",
    "phastCons = Scores[\"scores\"]\n",
    "phastCons = phastCons.where(phastCons.notnull(), 0)\n",
    "phylop = Scores[\"phylop\"]\n",
    "phylop = phylop.where(phylop.notnull(), 0)\n",
    "Promoter = Scores[\"Promoter\"]\n",
    "Enhancer = Scores[\"Enhancer\"]\n",
    "segwayPromoter = Scores[\"segwayPromoter\"]\n",
    "segwayEnhancer = Scores[\"segwayEnhancer\"]\n",
    "\n",
    "#normsocres = np.transpose(np.vstack((MITWeb, MIT, CCTop, Cropit, CFD, \n",
    "                                     #phylop, phastCons, Promoter, Enhancer, segwayPromoter, segwayEnhancer)))\n",
    "\n",
    "normsocres = np.transpose(np.vstack((MITWeb, MIT, CCTop, Cropit, CFD, \n",
    "                                     phylop, phastCons)))\n",
    "X_train, X_test, y_train, y_test = train_test_split(normsocres, Label, test_size=0.2, random_state=42)\n",
    "\n",
    "bdt = AdaBoostClassifier(DecisionTreeClassifier(max_depth=1), algorithm=\"SAMME\", n_estimators=200)\n",
    "rf = RandomForestClassifier(max_depth=1, n_estimators=200)\n",
    "svc = SVC(kernel = \"rbf\")\n",
    "svc1 = SVC(kernel = \"sigmoid\")\n",
    "\n",
    "dt = DecisionTreeClassifier(max_depth=6)\n",
    "mlp = MLPClassifier(alpha=1, activation=\"relu\")\n",
    "cv = StratifiedKFold(n_splits=5)\n"
   ]
  },
  {
   "cell_type": "code",
   "execution_count": 7,
   "metadata": {
    "collapsed": false
   },
   "outputs": [
    {
     "name": "stdout",
     "output_type": "stream",
     "text": [
      "1\n",
      "2\n",
      "3\n",
      "0.913067846986\n",
      "3\n",
      "0.956205641959\n",
      "3\n",
      "0.919069367223\n",
      "3\n",
      "0.98068903892\n",
      "3\n",
      "0.926714323537\n"
     ]
    }
   ],
   "source": [
    "tprs = []\n",
    "aucs = []\n",
    "mean_fpr = np.linspace(0, 1, 100)\n",
    "print 1\n",
    "\n",
    "i = 0\n",
    "plt.figure(figsize=(7, 7))  \n",
    "sub_normsocres = normsocres[:,(0,1,2,3,4,5,6)]\n",
    "#MITWeb, MIT, CCTop, Cropit, CFD, phylop, phastCons\n",
    "\n",
    "print 2\n",
    "\n",
    "for train, test in cv.split(sub_normsocres, Label):\n",
    "    \n",
    "    #AdaBoost\n",
    "    scores = bdt.fit(sub_normsocres[train], Label[train]).decision_function(sub_normsocres[test])\n",
    "    #DecisionTree\n",
    "    #scores = dt.fit(sub_normsocres[train], Label[train]).predict_proba(sub_normsocres[test])[:, 1]\n",
    "    #RandomForest\n",
    "    #scores = rf.fit(sub_normsocres[train], Label[train]).predict_proba(sub_normsocres[test])[:, 1]\n",
    "    \n",
    "    #scores = svc.fit(sub_normsocres[train], Label[train]).decision_function(sub_normsocres[test])\n",
    "    #scores = svc1.fit(sub_normsocres[train], Label[train]).decision_function(sub_normsocres[test])\n",
    "    \n",
    "    #scores = mlp.fit(sub_normsocres[train], Label[train]).predict_proba(sub_normsocres[test])[:, 1]\n",
    "    \n",
    "    print 3\n",
    "    # Compute ROC curve and area the curve\n",
    "    fpr, tpr, thresholds = roc_curve(Label[test], scores)\n",
    "    tprs.append(interp(mean_fpr, fpr, tpr))\n",
    "    tprs[-1][0] = 0.0\n",
    "    roc_auc = auc(fpr, tpr)\n",
    "    print roc_auc\n",
    "    aucs.append(roc_auc)\n",
    "    plt.plot(fpr, tpr, lw=1, alpha=0.3, label='ROC fold %d (AUC = %0.4f)' % (i, roc_auc))\n",
    "    i += 1\n",
    "\n"
   ]
  },
  {
   "cell_type": "code",
   "execution_count": null,
   "metadata": {
    "collapsed": true
   },
   "outputs": [],
   "source": [
    "mean_tpr = np.mean(tprs, axis=0)\n",
    "mean_tpr[-1] = 1.0\n",
    "mean_auc = auc(mean_fpr, mean_tpr)\n",
    "std_auc = np.std(aucs)\n",
    "plt.plot(mean_fpr, mean_tpr, color='b',\n",
    "         label=r'Mean ROC (AUC = %0.4f $\\pm$ %0.2f)' % (mean_auc, std_auc),\n",
    "         lw=2, alpha=.8)\n",
    "\n",
    "std_tpr = np.std(tprs, axis=0)\n",
    "tprs_upper = np.minimum(mean_tpr + std_tpr, 1)\n",
    "tprs_lower = np.maximum(mean_tpr - std_tpr, 0)\n",
    "plt.fill_between(mean_fpr, tprs_lower, tprs_upper, color='grey', alpha=.2,\n",
    "                 label=r'$\\pm$ 1 std. dev.')\n",
    "\n",
    "plt.xlim([-0.01, 1.01])\n",
    "plt.ylim([-0.01, 1.01])\n",
    "plt.xlabel('False Positive Rate')\n",
    "plt.ylabel('True Positive Rate')\n",
    "plt.title('ROC based on RandomForestClassifier')\n",
    "plt.legend(loc=\"lower right\")\n",
    "outfname = \"Allinall_RF.png\"\n",
    "plt.savefig(outfname, bbox_inches='tight')\n",
    "print 5\n"
   ]
  },
  {
   "cell_type": "code",
   "execution_count": null,
   "metadata": {
    "collapsed": true
   },
   "outputs": [],
   "source": [
    "#plt.show()\n",
    "#meanMLP = mean_tpr\n",
    "#meanaucMLP = mean_auc"
   ]
  },
  {
   "cell_type": "code",
   "execution_count": 35,
   "metadata": {
    "collapsed": true
   },
   "outputs": [],
   "source": [
    "meanaucAda = mean_auc\n",
    "mean_fpr_Ada = mean_fpr\n",
    "mean_tpr_Ada = mean_tpr"
   ]
  },
  {
   "cell_type": "code",
   "execution_count": 37,
   "metadata": {
    "collapsed": true
   },
   "outputs": [],
   "source": [
    "meanaucRF = mean_auc\n",
    "mean_fpr_RF = mean_fpr\n",
    "mean_tpr_RF = mean_tpr"
   ]
  },
  {
   "cell_type": "code",
   "execution_count": 33,
   "metadata": {
    "collapsed": true
   },
   "outputs": [],
   "source": [
    "meanaucDT = mean_auc\n",
    "mean_fpr_DT = mean_fpr\n",
    "mean_tpr_DT = mean_tpr"
   ]
  },
  {
   "cell_type": "code",
   "execution_count": 38,
   "metadata": {
    "collapsed": false
   },
   "outputs": [],
   "source": [
    "plt.figure(figsize=(7, 7)) \n",
    "LabelAda = \"Adaboost, AUC %.4f\" % meanaucAda\n",
    "LabelRF = \"RandomForest, AUC %.4f\" % meanaucRF\n",
    "LabelDT = \"DecisionTree, AUC %.4f\" % meanaucDT\n",
    "#LabelSVC = \"SVC, AUC %.4f\" % meanaucsvc\n",
    "#LabelMLP = \"MLP, AUC %.4f\" % meanaucMLP\n",
    "\n",
    "plt.plot(mean_fpr_Ada, mean_tpr_Ada, color='r', label= LabelAda, ls = \"--\", marker ='*')\n",
    "#plt.plot(mean_fpr, meanMLP, color='grey', label= LabelMLP, ls = \":\")\n",
    "plt.plot(mean_fpr_RF, mean_tpr_RF, color='darkblue', label= LabelRF, ls = \"--\")\n",
    "plt.plot(mean_fpr_DT, mean_tpr_DT, color='green', label= LabelDT, ls = \"-.\")\n",
    "#plt.plot(mean_fpr, meansvc, color='b', label= LabelSVC, ls = \":\", marker ='.')\n",
    "\n",
    "plt.xlim([-0.01, 1.01])\n",
    "plt.ylim([-0.01, 1.01])\n",
    "plt.xlabel('False Positive Rate')\n",
    "plt.ylabel('True Positive Rate')\n",
    "plt.title('ROC Comparison')\n",
    "plt.legend(loc=\"lower right\")\n",
    "outfname = \"other classifiers.png\"\n",
    "plt.savefig(outfname, bbox_inches='tight')\n",
    "plt.clf()\n",
    "#plt.show()"
   ]
  },
  {
   "cell_type": "code",
   "execution_count": 139,
   "metadata": {
    "collapsed": true
   },
   "outputs": [
    {
     "data": {
      "image/png": "[encoded data removed]",
      "text/plain": [
       "<matplotlib.figure.Figure at 0x1eef92a1b70>"
      ]
     },
     "metadata": {},
     "output_type": "display_data"
    }
   ],
   "source": [
    "prcs = []\n",
    "aucs = []\n",
    "mean_rec = np.linspace(0, 1, 100)\n",
    "i = 0\n",
    "plt.figure(figsize=(7, 7))  \n",
    "sub_normsocres = normsocres\n",
    "for train, test in cv.split(sub_normsocres, Label):\n",
    "    \n",
    "    scores = bdt.fit(sub_normsocres[train], Label[train]).decision_function(sub_normsocres[test])\n",
    "    #scores = svc.fit(sub_normsocres[train], Label[train]).decision_function(sub_normsocres[test])\n",
    "    #scores = svc1.fit(sub_normsocres[train], Label[train]).decision_function(sub_normsocres[test])\n",
    "    #scores = dt.fit(sub_normsocres[train], Label[train]).predict_proba(sub_normsocres[test])[:, 1]\n",
    "    #scores = rf.fit(sub_normsocres[train], Label[train]).predict_proba(sub_normsocres[test])[:, 1]\n",
    "    #scores = mlp.fit(sub_normsocres[train], Label[train]).predict_proba(sub_normsocres[test])[:, 1]\n",
    "    \n",
    "    # Compute PRC curve and area the curve\n",
    "    prc, rec, _ = precision_recall_curve(Label[test], scores)\n",
    "    prcs.append(interp(mean_rec, prc, rec))\n",
    "    prcs[-1][0] = 1.0\n",
    "    prc_auc = auc(rec, prc)\n",
    "    aucs.append(prc_auc)\n",
    "    plt.plot(rec, prc, lw=1, alpha=0.3,\n",
    "             label='PRC fold %d (AUC = %0.4f)' % (i, prc_auc))\n",
    "    i += 1\n",
    "\n",
    "print(prcs)\n",
    "mean_prc = np.mean(prcs, axis=0)\n",
    "mean_prc[-1] = 0.0\n",
    "mean_auc = auc(mean_rec, mean_prc)\n",
    "std_auc = np.std(aucs)\n",
    "plt.plot(mean_rec, mean_prc, color='b',\n",
    "         label=r'Mean PRC (AUC = %0.4f $\\pm$ %0.2f)' % (mean_auc, std_auc),\n",
    "         lw=2, alpha=.8)\n",
    "\n",
    "std_prc = np.std(prcs, axis=0)\n",
    "prcs_upper = np.minimum(mean_prc + std_prc, 1)\n",
    "prcs_lower = np.maximum(mean_prc - std_prc, 0)\n",
    "#print(prcs_upper)\n",
    "#print(prcs_lower)\n",
    "plt.fill_between(mean_rec, prcs_lower, prcs_upper, color='grey', alpha=.2, label=r'$\\pm$ 1 std. dev.')\n",
    "\n",
    "plt.xlim([-0.01, 1.01])\n",
    "plt.ylim([-0.01, 1.01])\n",
    "plt.xlabel('Recall')\n",
    "plt.ylabel('Precision')\n",
    "plt.title('PRC')\n",
    "plt.legend(loc=\"upper right\")\n",
    "outfname = \"svcPRCwith PhyloP.png\"\n",
    "#outfname = \"PRC 14.png\"\n",
    "plt.savefig(outfname, bbox_inches='tight')\n",
    "plt.clf()"
   ]
  },
  {
   "cell_type": "code",
   "execution_count": null,
   "metadata": {
    "collapsed": true
   },
   "outputs": [],
   "source": [
    "#plt.show()\n",
    "\n",
    "meansvc = mean_prc\n",
    "meanaucsvc = mean_auc"
   ]
  },
  {
   "cell_type": "code",
   "execution_count": 1,
   "metadata": {
    "collapsed": false
   },
   "outputs": [
    {
     "ename": "NameError",
     "evalue": "name 'plt' is not defined",
     "output_type": "error",
     "traceback": [
      "\u001b[0;31m---------------------------------------------------------------------------\u001b[0m",
      "\u001b[0;31mNameError\u001b[0m                                 Traceback (most recent call last)",
      "\u001b[0;32m<ipython-input-1-1ad9df58e614>\u001b[0m in \u001b[0;36m<module>\u001b[0;34m()\u001b[0m\n\u001b[0;32m----> 1\u001b[0;31m \u001b[0mplt\u001b[0m\u001b[0;34m.\u001b[0m\u001b[0mfigure\u001b[0m\u001b[0;34m(\u001b[0m\u001b[0mfigsize\u001b[0m\u001b[0;34m=\u001b[0m\u001b[0;34m(\u001b[0m\u001b[0;36m7\u001b[0m\u001b[0;34m,\u001b[0m \u001b[0;36m7\u001b[0m\u001b[0;34m)\u001b[0m\u001b[0;34m)\u001b[0m\u001b[0;34m\u001b[0m\u001b[0m\n\u001b[0m\u001b[1;32m      2\u001b[0m \u001b[0mLabelAda\u001b[0m \u001b[0;34m=\u001b[0m \u001b[0;34m\"AdaBoost, AUC %.4f\"\u001b[0m \u001b[0;34m%\u001b[0m \u001b[0mmeanaucAda\u001b[0m\u001b[0;34m\u001b[0m\u001b[0m\n\u001b[1;32m      3\u001b[0m \u001b[0mLabelRF\u001b[0m \u001b[0;34m=\u001b[0m \u001b[0;34m\"RandomForest, AUC %.4f\"\u001b[0m \u001b[0;34m%\u001b[0m \u001b[0mmeanaucRF\u001b[0m\u001b[0;34m\u001b[0m\u001b[0m\n\u001b[1;32m      4\u001b[0m \u001b[0mLabelDT\u001b[0m \u001b[0;34m=\u001b[0m \u001b[0;34m\"DecisionTree, AUC %.4f\"\u001b[0m \u001b[0;34m%\u001b[0m \u001b[0mmeanaucDT\u001b[0m\u001b[0;34m\u001b[0m\u001b[0m\n\u001b[1;32m      5\u001b[0m \u001b[0mLabelSVC\u001b[0m \u001b[0;34m=\u001b[0m \u001b[0;34m\"SVC, AUC %.4f\"\u001b[0m \u001b[0;34m%\u001b[0m \u001b[0mmeanaucsvc\u001b[0m\u001b[0;34m\u001b[0m\u001b[0m\n",
      "\u001b[0;31mNameError\u001b[0m: name 'plt' is not defined"
     ]
    }
   ],
   "source": [
    "plt.figure(figsize=(7, 7)) \n",
    "LabelAda = \"AdaBoost, AUC %.4f\" % meanaucAda\n",
    "LabelRF = \"RandomForest, AUC %.4f\" % meanaucRF\n",
    "LabelDT = \"DecisionTree, AUC %.4f\" % meanaucDT\n",
    "LabelSVC = \"SVC, AUC %.4f\" % meanaucsvc\n",
    "LabelMLP = \"MLP, AUC %.4f\" % meanaucMLP\n",
    "\n",
    "plt.plot(mean_rec, meanAda, color='r', label= LabelAda, ls = \"--\", marker ='*')\n",
    "plt.plot(mean_rec, meanMLP, color='grey', label= LabelMLP, ls = \":\")\n",
    "plt.plot(mean_rec, meanRF, color='darkblue', label= LabelRF, ls = \"--\")\n",
    "plt.plot(mean_rec, meanDT, color='green', label= LabelDT, ls = \"-.\")\n",
    "plt.plot(mean_rec, meansvc, color='b', label= LabelSVC, ls = \":\", marker ='.')\n",
    "\n",
    "plt.xlim([-0.01, 1.01])\n",
    "plt.ylim([-0.01, 1.01])\n",
    "plt.xlabel('Recall')\n",
    "plt.ylabel('Precision')\n",
    "plt.title('PRC')\n",
    "plt.legend(loc=\"upper right\")\n",
    "outfname = \"PRC other classifiers.png\"\n",
    "plt.savefig(outfname, bbox_inches='tight')\n",
    "plt.show()"
   ]
  },
  {
   "cell_type": "code",
   "execution_count": null,
   "metadata": {
    "collapsed": true
   },
   "outputs": [],
   "source": []
  }
 ],
 "metadata": {
  "kernelspec": {
   "display_name": "Python 2",
   "language": "python",
   "name": "python2"
  },
  "language_info": {
   "codemirror_mode": {
    "name": "ipython",
    "version": 2
   },
   "file_extension": ".py",
   "mimetype": "text/x-python",
   "name": "python",
   "nbconvert_exporter": "python",
   "pygments_lexer": "ipython2",
   "version": "2.7.13"
  }
 },
 "nbformat": 4,
 "nbformat_minor": 2
}

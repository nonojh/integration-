{
 "cells": [
  {
   "cell_type": "code",
   "execution_count": 2,
   "metadata": {
    "collapsed": true
   },
   "outputs": [],
   "source": [
    "from numpy import *\n",
    "import csv\n",
    "import numpy\n",
    "import pandas as pd\n",
    "import math\n",
    "import os\n",
    "\n",
    "Crispr_data='/Users/jiahao/Desktop/crisprCas9/SSL/data/Crispr_Data.csv'\n",
    "Crispr_data2= '/Users/jiahao/Desktop/crisprCas9/SSL/equal/data/Crispr_Data2.txt'\n",
    "Crispr_positive='/Users/jiahao/Desktop/crisprCas9/SSL/equal/data/Crispr_SSL_positive.txt'\n",
    "Crispr_negative='/Users/jiahao/Desktop/crisprCas9/SSL/equal/data/Crispr_SSL_negative'\n",
    "\n",
    "\n",
    "Name_data_list = ['cfdScore','MITwebsite','MITscores','CropitScores','CCTopSores','PhastCons','phylop','Promoter',\n",
    "                  'Enhancer','segwayPromoter','segwayEnhancer']\n",
    "Distance_path='/Users/jiahao/Desktop/crisprCas9/SSL/equal/distance/'\n",
    "\n",
    "Result = '/Users/jiahao/Desktop/crisprCas9/SSL/equal/result/'\n",
    "input_list=[2,3,4,5,6,7,8,9,10,11,12]"
   ]
  },
  {
   "cell_type": "code",
   "execution_count": 3,
   "metadata": {
    "collapsed": false
   },
   "outputs": [
    {
     "name": "stdout",
     "output_type": "stream",
     "text": [
      "cfdScore 0.0 ~ 1.0 ~ 1.0\n",
      "MITwebsite 0.0 ~ 100.0 ~ 100.0\n",
      "MITscores 0.001756701 ~ 100.0 ~ 99.998243299\n",
      "CropitScores 230.0 ~ 642.5 ~ 412.5\n",
      "CCTopSores 104.9049558 ~ 222.8 ~ 117.89504420000002\n",
      "PhastCons 0.0 ~ 1.0 ~ 1.0\n",
      "phylop -2.608695652 ~ 7.304347826 ~ 9.913043478\n",
      "Promoter 0.0 ~ 1.0 ~ 1.0\n",
      "Enhancer 0.0 ~ 2.0 ~ 2.0\n",
      "segwayPromoter 0.0 ~ 1.0 ~ 1.0\n",
      "segwayEnhancer 0.0 ~ 1.0 ~ 1.0\n",
      "count= 25332\n"
     ]
    }
   ],
   "source": [
    "input_list=[2,3,4,5,6,7,8,9,10,11,12]\n",
    "feature_range=[]\n",
    "#记录每个特征的范围\n",
    "raw_num=0\n",
    "for i in range(0,11):\n",
    "    \n",
    "    min_value=10000\n",
    "    max_value=-10000\n",
    "    csvfile = file(Crispr_data2,'rb') #读文件\n",
    "    reader = csv.reader(csvfile)\n",
    "    for row in reader:\n",
    "        if i==0:\n",
    "            raw_num=raw_num+1\n",
    "        if row[input_list[i]]=='NA':\n",
    "            current = 0\n",
    "        else:\n",
    "            current=float(row[input_list[i]])\n",
    "        if current > max_value:\n",
    "            max_value = current\n",
    "        if current < min_value:\n",
    "            min_value = current\n",
    "    csvfile.close()\n",
    "    \n",
    "    feature_range.append(array([min_value,max_value,max_value-min_value]))\n",
    "\n",
    "    print Name_data_list[i], feature_range[i][0],'~',feature_range[i][1],'~',feature_range[i][2]\n",
    "\n",
    "print \"count=\",raw_num"
   ]
  },
  {
   "cell_type": "code",
   "execution_count": 18,
   "metadata": {
    "collapsed": false
   },
   "outputs": [
    {
     "name": "stdout",
     "output_type": "stream",
     "text": [
      " cfdScore p: 0.0 ~ 1.0 n: 0.0 ~ 0.941176471\n",
      "        0.0   1.0\n",
      "MITwebsite p: 0.0 ~ 100.0 n: 0.0 ~ 7.414830508\n",
      "        0.0   100.0\n",
      "MITscores p: 0.023413405 ~ 100.0 n: 0.001756701 ~ 100.0\n",
      "        0.001756701   100.0\n",
      "CropitScores p: 387.5 ~ 642.5 n: 230.0 ~ 642.5\n",
      "        230.0   642.5\n",
      "CCTopSores p: 124.1050829 ~ 222.8 n: 104.9049558 ~ 222.8\n",
      "        104.9049558   222.8\n",
      "count= 25332\n"
     ]
    }
   ],
   "source": [
    "for i in range(0,5):\n",
    "    \n",
    "#     border_positive_max=feature_range[i][0]\n",
    "#     border_positive_min=feature_range[i][1]\n",
    "#     border_negative_max=feature_range[i][0]\n",
    "#     border_negative_min=feature_range[i][1]\n",
    "    border_positive_max=-100\n",
    "    border_positive_min=900\n",
    "    border_negative_max=-100\n",
    "    border_negative_min=900\n",
    "    csvfile = file(Crispr_data2,'rb') #读文件\n",
    "    reader = csv.reader(csvfile)\n",
    "    for row in reader:\n",
    "        if row[input_list[i]]=='NA':\n",
    "            current = 0\n",
    "        else:\n",
    "            current=float(row[input_list[i]])\n",
    "        if (row[1]=='1') and (current > border_positive_max):\n",
    "            border_positive_max = current\n",
    "            \n",
    "        if (row[1]=='1' and current < border_positive_min):\n",
    "            border_positive_min = current\n",
    "            \n",
    "        if (row[1]=='0' and current > border_negative_max):\n",
    "            border_negative_max = current\n",
    "            \n",
    "        if (row[1]=='0' and current < border_negative_min):\n",
    "            border_negative_min = current\n",
    "    csvfile.close()\n",
    "\n",
    "    print Name_data_list[i], 'p:',border_positive_min,'~',border_positive_max,'n:',border_negative_min,'~',border_negative_max\n",
    "    print '       ',feature_range[i][0],' ',feature_range[i][1]\n",
    "\n",
    "print \"count=\",raw_num"
   ]
  },
  {
   "cell_type": "code",
   "execution_count": 21,
   "metadata": {
    "collapsed": true
   },
   "outputs": [],
   "source": [
    "from sklearn.metrics import roc_auc_score\n",
    "\n",
    "from sklearn.model_selection import train_test_split\n",
    "from sklearn.metrics import roc_curve, auc\n",
    "from sklearn.model_selection import cross_val_score\n",
    "from scipy.optimize import fsolve "
   ]
  },
  {
   "cell_type": "code",
   "execution_count": 29,
   "metadata": {
    "collapsed": false
   },
   "outputs": [],
   "source": [
    "for index in range(80,90):\n",
    "    dist_train = [[],[],[],[],[],[],[],[],[],[],[]] #dist_train为各特征权重矩阵W\n",
    "    for i in range(0,11):\n",
    "        #read input data\n",
    "        filename=Distance_path+str(index)+'/Distance_feature'+str(i)+'.txt'\n",
    "        csvfile = file(filename,'rb') #读文件，路径为各特征的距离矩阵文件\n",
    "        reader_crispr = csv.reader(csvfile)\n",
    "        for row in reader_crispr:\n",
    "            dist_train[i].append(row) \n",
    "        csvfile.close()\n",
    "    num=len(row)\n",
    "        \n",
    "    L_list = [[],[],[],[],[],[],[],[],[],[],[]]\n",
    "    for i in range(0,11):\n",
    "        Index = mat(numpy.eye(num))\n",
    "        D = mat(numpy.eye(num))\n",
    "        for i1 in range(0,num):\n",
    "            d = 0.0\n",
    "            for j1 in range(0,num):\n",
    "                d = d+float(dist_train[i][i1][j1])\n",
    "            D[i1,i1] = d\n",
    "        L = D-mat(dist_train[i]).astype('float64')\n",
    "        L_list[i] = L\n",
    "        \n",
    "\n",
    "    ##Read  Outcome Data\n",
    "    o_true = []\n",
    "    filename=Distance_path+str(index)+'/Crispr_Data'+str(index)+'.txt'\n",
    "    csvfile = file(filename,'rb') #读文件，路径为各特征的距离矩阵文件\n",
    "    reader = csv.reader(csvfile)\n",
    "    for row in reader:\n",
    "        o_true.append([float(row[1])])\n",
    "    csvfile.close()\n",
    "\n",
    "\n",
    "    l_5fold=[]\n",
    "    l = range(0,num)\n",
    "    l_train,l_test = train_test_split(l,test_size=0.2)\n",
    "    l_5fold.append(l_test)\n",
    "    l0_train,l0_test = train_test_split(l_train,test_size=0.5)\n",
    "    l1_train,l1_test = train_test_split(l0_train,test_size=0.5)\n",
    "    l2_train,l2_test = train_test_split(l0_test,test_size=0.5)\n",
    "    l_5fold.append(l1_train)\n",
    "    l_5fold.append(l1_test)\n",
    "    l_5fold.append(l2_train)\n",
    "    l_5fold.append(l2_test)\n",
    "\n",
    "    \n",
    "    directory_name=Result+str(index)\n",
    "    if not os.path.exists(directory_name):\n",
    "        os.mkdir(directory_name)\n",
    "        \n",
    "    for Data_flag in range(0,11):  #循环数据类型\n",
    "        filename=directory_name+'/result_feature'+str(Data_flag)+'.txt'\n",
    "        wcsvfile = file(filename,'wb') \n",
    "        writer = csv.writer(wcsvfile)\n",
    "        max_auc = 0 #最佳AUC值\n",
    "        best_u = 0\n",
    "\n",
    "        for i in range(0,5):\n",
    "            #5折交叉分类，80%数据作为训练数据，20%数据作为测试数据，测试数据无标签\n",
    "            l_test = l_5fold[i]\n",
    "            l_train = []\n",
    "            for j in range(0,5):\n",
    "                if i==j:\n",
    "                    continue\n",
    "                else:\n",
    "                    for k in range(0,len(l_5fold[j])):\n",
    "                        l_train.append(l_5fold[j][k] )\n",
    "\n",
    "            o_train = []\n",
    "            #根据训练集和测试集，分类训练和测试数据，生成o_train\n",
    "            for j in range(0,num):\n",
    "                if j in l_train:\n",
    "                    o_train.append(o_true[j])\n",
    "                elif j in l_test:\n",
    "                    o_train.append([0.0])\n",
    "            \n",
    "            auc=-1\n",
    "            u=0\n",
    "            count=0\n",
    "            #print 'Index','=',Index\n",
    "            #print 'L_list=',L_list\n",
    "            #print 'o_train=',o_train\n",
    "            for u0 in numpy.arange(0,1.002,0.002):\n",
    "                f1= Index+u0*L_list[Data_flag]\n",
    "                f = mat(f1.I)*mat(o_train)\n",
    "                tmp=roc_auc_score(o_true,f)\n",
    "                #print 'u0=',u0,' auc=',tmp\n",
    "                #print 'o_true=',o_true\n",
    "                #print 'f=',f\n",
    "                if (auc<tmp):\n",
    "                    auc=tmp\n",
    "                    u=u0\n",
    "            \n",
    "            best_u +=u\n",
    "            max_auc +=auc\n",
    "            \n",
    "\n",
    "#             u = fsolve(func,0.5) #通过fsolve函数求解最佳参数u\n",
    "#             auc=func(u)+1\n",
    "#             best_u += u\n",
    "#             max_auc += auc\n",
    "            writer.writerow([round(u,6),round(auc,6)])\n",
    "        \n",
    "        #writer.writerow(['best_u','best_auc'])\n",
    "        writer.writerow([round(best_u/5,6),round(max_auc/5,6)])\n",
    "        wcsvfile.close()\n",
    "        #print 'Off-target','-',Name_data_list[Data_flag],'max_auc:',round(max_auc/5,6) #得平均值AUC\n",
    "        #print 'best_u:',round(best_u/5,6) #得平均值AUC\n"
   ]
  },
  {
   "cell_type": "code",
   "execution_count": 20,
   "metadata": {
    "collapsed": false
   },
   "outputs": [
    {
     "name": "stdout",
     "output_type": "stream",
     "text": [
      "CFDscore 0.916\n",
      "MITwebsite 0.726\n",
      "MITscores 0.892\n",
      "CropitScores 0.831\n",
      "CCTopSores 0.78\n",
      "PhastCons 0.438\n",
      "Phylop 0.49\n",
      "Promoter 0.51\n",
      "Enhancer 0.507\n",
      "segwayPromoter 0.51\n",
      "segwayEnhancer 0.513\n"
     ]
    }
   ],
   "source": [
    "import csv\n",
    "from sklearn.metrics import roc_curve, auc\n",
    "from sklearn.metrics import roc_auc_score\n",
    "import matplotlib.pyplot as plt\n",
    "Name_data_list = ['CFDscore','MITwebsite','MITscores','CropitScores','CCTopSores','PhastCons','Phylop','Promoter',\n",
    "                  'Enhancer','segwayPromoter','segwayEnhancer']\n",
    "index=0;\n",
    "Distance_path='/Users/jiahao/Desktop/crisprCas9/SSL/equal/distance/'\n",
    "filename=Distance_path+str(index)+'/Crispr_Data'+str(index)+'.txt'\n",
    "o_true = []\n",
    "csvfile = file(filename,'rb') \n",
    "reader = csv.reader(csvfile)\n",
    "for row in reader:\n",
    "    o_true.append([float(row[1])])\n",
    "csvfile.close()\n",
    "plt.figure(figsize=(8, 8)) \n",
    "for i in range(0,11):\n",
    "    #read input data\n",
    "    csvfile = file(filename,'rb') \n",
    "    reader_crispr = csv.reader(csvfile)\n",
    "    feature=[]\n",
    "    for row in reader_crispr:\n",
    "        feature.append(float(row[i+2])) \n",
    "    csvfile.close()\n",
    "    num=len(feature)\n",
    "    #auc=roc_auc_score(o_true,feature)\n",
    "    fpr, tpr, thresholds = roc_curve(o_true, feature)\n",
    "    roc_auc = auc(fpr, tpr)\n",
    "    print Name_data_list[i],round(roc_auc,3)\n",
    "    plt.plot(fpr, tpr, lw=1, alpha=0.3, label='%s (AUC = %0.4f)' % (Name_data_list[i],roc_auc))\n",
    "\n",
    "plt.xlim([-0.01, 1.01])\n",
    "plt.ylim([-0.01, 1.01])\n",
    "plt.xlabel('False Positive Rate')\n",
    "plt.ylabel('True Positive Rate')\n",
    "plt.title('ROC based on single feature')\n",
    "plt.legend(loc=\"lower right\")\n",
    "outfname = \"single feature.png\"\n",
    "plt.savefig(outfname, bbox_inches='tight')"
   ]
  },
  {
   "cell_type": "code",
   "execution_count": 50,
   "metadata": {
    "collapsed": false
   },
   "outputs": [
    {
     "name": "stdout",
     "output_type": "stream",
     "text": [
      "142\n",
      "[0.919, 0.608, 0.869, 0.781, 0.748, 0.562, 0.528, 0.587, 0.605, 0.578, 0.544, 0.928, 0.946, 0.924, 0.919, 0.901, 0.914, 0.939, 0.966, 0.908, 0.916, 0.863, 0.811, 0.777, 0.659, 0.642, 0.859, 0.822, 0.589, 0.752, 0.892, 0.881, 0.888, 0.893, 0.922, 0.923, 0.889, 0.914, 0.814, 0.806, 0.815, 0.887, 0.849, 0.808, 0.844, 0.783, 0.785, 0.901, 0.891, 0.795, 0.833, 0.57, 0.806, 0.786, 0.565, 0.769, 0.836, 0.779, 0.55, 0.782, 0.853, 0.831, 0.836, 0.703, 0.823, 0.795, 0.951, 0.938, 0.939, 0.94, 0.937, 0.949, 0.956, 0.934, 0.938, 0.95, 0.948, 0.954, 0.951, 0.959, 0.962, 0.949, 0.945, 0.926, 0.934, 0.93, 0.943, 0.951, 0.93, 0.93, 0.929, 0.926, 0.937, 0.946, 0.925, 0.932, 0.886, 0.877, 0.886, 0.889, 0.928, 0.923, 0.888, 0.913, 0.833, 0.814, 0.818, 0.886, 0.863, 0.81, 0.895, 0.784, 0.777, 0.872, 0.853, 0.775, 0.898, 0.876, 0.89, 0.89, 0.923, 0.923, 0.892, 0.911, 0.884, 0.892, 0.927, 0.923, 0.89, 0.916, 0.835, 0.83, 0.877, 0.873, 0.828, 0.893, 0.941, 0.941, 0.929, 0.943, 0.879, 0.954]\n"
     ]
    }
   ],
   "source": [
    "#histogram.py\n",
    "index=0;\n",
    "Distance_path='/Users/jiahao/Desktop/crisprCas9/SSL/equal/record/'\n",
    "filename=Distance_path+'rank'+'.txt'\n",
    "csvfile = file(filename,'rb') \n",
    "reader = csv.reader(csvfile)\n",
    "count=0\n",
    "auc=[]\n",
    "for row in reader:\n",
    "    count+=1\n",
    "    auc.append(float(row[1]))\n",
    "csvfile.close()\n",
    "print count\n",
    "print auc"
   ]
  },
  {
   "cell_type": "code",
   "execution_count": 56,
   "metadata": {
    "collapsed": false
   },
   "outputs": [
    {
     "name": "stdout",
     "output_type": "stream",
     "text": [
      "[ 0  1  2  3  4  7  5  6  8  9 10 11 12 13 14 15 16 18 17 19 21]\n",
      "[0.962, 0.959, 0.956, 0.954, 0.954, 0.951, 0.951, 0.951, 0.95, 0.949, 0.949, 0.948, 0.946, 0.946, 0.945, 0.943, 0.943, 0.941, 0.941, 0.94, 0.939]\n"
     ]
    }
   ],
   "source": [
    "import math\n",
    "import random\n",
    "from pandas import *\n",
    "k=21\n",
    "sort_index = argsort(auc)[:-(k+1):-1]\n",
    "auc_sort=[]\n",
    "print sort_index[0:k]\n",
    "for i in range(k):\n",
    "    auc_sort.append(auc[sort_index[i]])\n",
    "print auc_sort"
   ]
  },
  {
   "cell_type": "code",
   "execution_count": 57,
   "metadata": {
    "collapsed": false
   },
   "outputs": [
    {
     "name": "stdout",
     "output_type": "stream",
     "text": [
      "[0.959, 0.956, 0.954, 0.954, 0.951, 0.951, 0.951, 0.95, 0.949, 0.949, 0.948, 0.946, 0.946, 0.945, 0.943, 0.943, 0.941, 0.941, 0.94, 0.939]\n"
     ]
    }
   ],
   "source": [
    "auc=auc_sort[1:]\n",
    "print auc"
   ]
  },
  {
   "cell_type": "code",
   "execution_count": 75,
   "metadata": {
    "collapsed": true
   },
   "outputs": [],
   "source": [
    "auc_adaboost=[0.862,0.875,0.742,0.903,0.921,0.905,0.851,0.938,0.914,0.891]"
   ]
  },
  {
   "cell_type": "code",
   "execution_count": 64,
   "metadata": {
    "collapsed": false
   },
   "outputs": [
    {
     "data": {
      "text/plain": [
       "[0.959, 0.956, 0.954, 0.954, 0.951, 0.951, 0.951, 0.95, 0.949, 0.949]"
      ]
     },
     "execution_count": 64,
     "metadata": {},
     "output_type": "execute_result"
    }
   ],
   "source": [
    "auc[:10]"
   ]
  },
  {
   "cell_type": "code",
   "execution_count": 76,
   "metadata": {
    "collapsed": false
   },
   "outputs": [],
   "source": [
    "import pandas as pd\n",
    "\n",
    "plt.figure(figsize=(8, 8)) \n",
    "# Generate data on commute times.\n",
    "# size, scale = 1000, 10\n",
    "bar_width = 0.55\n",
    "#commutes = pd.Series(auc)\n",
    "plt.figure(figsize=(1000,10))\n",
    "fig, ax = plt.subplots()\n",
    "ax.bar([1, 3, 5, 7, 9,11,13,15,17,19], auc[:10],bar_width,fc = '#607c8e', label='SSL')\n",
    "ax.bar([2, 4, 6, 8, 10,12,14,16,18,20], auc_adaboost,bar_width,label='Adaboost')\n",
    "#ax.bar(range(len(auc)), auc,  bar_width,fc = '#607c8e')\n",
    "#commutes.plot.hist(grid=True, bins=20, rwidth=0.9,color='#607c8e')\n",
    "index = np.arange(20)\n",
    "#ax.set_xticks(index + bar_width / 2)\n",
    "plt.title('Compare the performance of SSL and Adaboost')\n",
    "plt.xlabel('Combinations of features')\n",
    "plt.ylabel('AUC')\n",
    "plt.legend(loc=\"lower right\")\n",
    "plt.grid(axis='y', alpha=0.75)\n",
    "outfname = \"histogram.png\"\n",
    "plt.savefig(outfname, bbox_inches='tight')\n",
    "plt.close()"
   ]
  },
  {
   "cell_type": "code",
   "execution_count": null,
   "metadata": {
    "collapsed": true
   },
   "outputs": [],
   "source": []
  }
 ],
 "metadata": {
  "kernelspec": {
   "display_name": "Python 2",
   "language": "python",
   "name": "python2"
  },
  "language_info": {
   "codemirror_mode": {
    "name": "ipython",
    "version": 2
   },
   "file_extension": ".py",
   "mimetype": "text/x-python",
   "name": "python",
   "nbconvert_exporter": "python",
   "pygments_lexer": "ipython2",
   "version": "2.7.13"
  }
 },
 "nbformat": 4,
 "nbformat_minor": 0
}

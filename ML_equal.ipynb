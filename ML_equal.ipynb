{
 "cells": [
  {
   "cell_type": "code",
   "execution_count": 37,
   "metadata": {
    "collapsed": false
   },
   "outputs": [],
   "source": [
    "import pandas as pd\n",
    "import numpy as np\n",
    "from sklearn import metrics, preprocessing\n",
    "import csv\n",
    "import matplotlib.pyplot as plt\n",
    "from sklearn.metrics import precision_recall_curve\n",
    "from sklearn.metrics import average_precision_score\n",
    "from sklearn.ensemble import AdaBoostClassifier\n",
    "from sklearn.tree import DecisionTreeClassifier\n",
    "from sklearn.ensemble import RandomForestClassifier\n",
    "from sklearn.model_selection import train_test_split\n",
    "from sklearn.model_selection import StratifiedKFold\n",
    "from sklearn.metrics import roc_curve, auc\n",
    "from scipy import interp\n",
    "from itertools import cycle\n",
    "from sklearn.model_selection import cross_val_score\n",
    "from sklearn.svm import SVC\n",
    "from sklearn.neural_network import MLPClassifier\n",
    "\n",
    "#filename = \"cdf_score999.csv\"\n",
    "filename = \"Crispr_Data.csv\"\n",
    "Scores = pd.read_csv(filename)\n",
    "\n",
    "CCTop = Scores[\"CCTopSores\"]\n",
    "Cropit = Scores[\"CropitScores\"]\n",
    "\n",
    "MIT = Scores[\"MITscores\"]\n",
    "\n",
    "MITWeb = Scores[\"MITwebsite\"]\n",
    "\n",
    "CFD = Scores[\"cfdScore\"]\n",
    "\n",
    "Label = Scores[\"label\"]\n",
    "phastCons = Scores[\"scores\"]\n",
    "phastCons = phastCons.where(phastCons.notnull(), 0)\n",
    "phylop = Scores[\"phylop\"]\n",
    "phylop = phylop.where(phylop.notnull(), 0)\n",
    "Promoter = Scores[\"Promoter\"]\n",
    "Enhancer = Scores[\"Enhancer\"]\n",
    "segwayPromoter = Scores[\"segwayPromoter\"]\n",
    "segwayEnhancer = Scores[\"segwayEnhancer\"]\n",
    "\n",
    "#normsocres = np.transpose(np.vstack(( MIT, CFD, Enhancer)))\n",
    "#normsocres = np.transpose(np.vstack((MIT,  CFD,  Promoter)))\n",
    "#normsocres = np.transpose(np.vstack((MITWeb, CFD,  Enhancer)))\n",
    "#normsocres = np.transpose(np.vstack((MIT, CFD,    phastCons)))\n",
    "#normsocres = np.transpose(np.vstack((MITWeb, MIT, CCTop, Cropit, CFD)))\n",
    "#normsocres = np.transpose(np.vstack((MITWeb, MIT, CFD)))\n",
    "#normsocres = np.transpose(np.vstack(( Cropit, CFD,  Enhancer)))\n",
    "#normsocres = np.transpose(np.vstack(( MIT,  CFD,   phylop)))\n",
    "#normsocres = np.transpose(np.vstack(( MIT, Cropit, CFD )))\n",
    "#normsocres = np.transpose(np.vstack((MIT,Cropit)))\n",
    "normsocres = np.transpose(np.vstack((MITWeb, MIT, CCTop, Cropit, CFD, \n",
    "                                     phylop, phastCons)))\n",
    "\n",
    "\n",
    "X_train, X_test, y_train, y_test = train_test_split(normsocres, Label, test_size=0.2, random_state=42)\n",
    "\n",
    "bdt = AdaBoostClassifier(DecisionTreeClassifier(max_depth=1), algorithm=\"SAMME\", n_estimators=200)\n",
    "\n",
    "cv = StratifiedKFold(n_splits=5)\n"
   ]
  },
  {
   "cell_type": "code",
   "execution_count": 39,
   "metadata": {
    "collapsed": false
   },
   "outputs": [
    {
     "name": "stdout",
     "output_type": "stream",
     "text": [
      "0.7419542256833065\n"
     ]
    }
   ],
   "source": [
    "tprs = []\n",
    "aucs = []\n",
    "mean_fpr = np.linspace(0, 1, 100)\n",
    "\n",
    "i = 0\n",
    "#plt.figure(figsize=(7, 7))  \n",
    "sub_normsocres = normsocres[:,(0)].reshape(-1, 1)\n",
    "#CFD,MITWeb, MIT, Cropit\n",
    "\n",
    "for train, test in cv.split(sub_normsocres, Label):\n",
    "    \n",
    "    #AdaBoost\n",
    "    scores = bdt.fit(sub_normsocres[train], Label[train]).decision_function(sub_normsocres[test])\n",
    "    \n",
    "    # Compute ROC curve and area the curve\n",
    "    fpr, tpr, thresholds = roc_curve(Label[test], scores)\n",
    "    tprs.append(interp(mean_fpr, fpr, tpr))\n",
    "    tprs[-1][0] = 0.0\n",
    "    roc_auc = auc(fpr, tpr)\n",
    "    aucs.append(roc_auc)\n",
    "    #plt.plot(fpr, tpr, lw=1, alpha=0.3, label='ROC fold %d (AUC = %0.4f)' % (i, roc_auc))\n",
    "    i += 1\n",
    "\n",
    "mean_tpr = np.mean(tprs, axis=0)\n",
    "mean_tpr[-1] = 1.0\n",
    "mean_auc = auc(mean_fpr, mean_tpr)\n",
    "print mean_auc"
   ]
  },
  {
   "cell_type": "code",
   "execution_count": 1,
   "metadata": {
    "collapsed": false
   },
   "outputs": [
    {
     "ename": "NameError",
     "evalue": "name 'roc_auc_score' is not defined",
     "output_type": "error",
     "traceback": [
      "\u001b[0;31m---------------------------------------------------------------------------\u001b[0m",
      "\u001b[0;31mNameError\u001b[0m                                 Traceback (most recent call last)",
      "\u001b[0;32m<ipython-input-1-220a8d653740>\u001b[0m in \u001b[0;36m<module>\u001b[0;34m()\u001b[0m\n\u001b[1;32m     20\u001b[0m     \u001b[0mcsvfile\u001b[0m\u001b[0;34m.\u001b[0m\u001b[0mclose\u001b[0m\u001b[0;34m(\u001b[0m\u001b[0;34m)\u001b[0m\u001b[0;34m\u001b[0m\u001b[0m\n\u001b[1;32m     21\u001b[0m     \u001b[0mnum\u001b[0m\u001b[0;34m=\u001b[0m\u001b[0mlen\u001b[0m\u001b[0;34m(\u001b[0m\u001b[0mfeature\u001b[0m\u001b[0;34m)\u001b[0m\u001b[0;34m\u001b[0m\u001b[0m\n\u001b[0;32m---> 22\u001b[0;31m     \u001b[0mauc\u001b[0m\u001b[0;34m=\u001b[0m\u001b[0mroc_auc_score\u001b[0m\u001b[0;34m(\u001b[0m\u001b[0mo_true\u001b[0m\u001b[0;34m,\u001b[0m\u001b[0mfeature\u001b[0m\u001b[0;34m)\u001b[0m\u001b[0;34m\u001b[0m\u001b[0m\n\u001b[0m\u001b[1;32m     23\u001b[0m     \u001b[0;32mprint\u001b[0m \u001b[0mName_data_list\u001b[0m\u001b[0;34m[\u001b[0m\u001b[0mi\u001b[0m\u001b[0;34m]\u001b[0m\u001b[0;34m,\u001b[0m\u001b[0mround\u001b[0m\u001b[0;34m(\u001b[0m\u001b[0mauc\u001b[0m\u001b[0;34m,\u001b[0m\u001b[0;36m3\u001b[0m\u001b[0;34m)\u001b[0m\u001b[0;34m\u001b[0m\u001b[0m\n",
      "\u001b[0;31mNameError\u001b[0m: name 'roc_auc_score' is not defined"
     ]
    }
   ],
   "source": [
    "0.862,0.862,0.742,0.862,0.742,0.742,0.871,0.862,0.862,0.862"
   ]
  },
  {
   "cell_type": "code",
   "execution_count": null,
   "metadata": {
    "collapsed": true
   },
   "outputs": [],
   "source": []
  }
 ],
 "metadata": {
  "kernelspec": {
   "display_name": "Python 2",
   "language": "python",
   "name": "python2"
  },
  "language_info": {
   "codemirror_mode": {
    "name": "ipython",
    "version": 2
   },
   "file_extension": ".py",
   "mimetype": "text/x-python",
   "name": "python",
   "nbconvert_exporter": "python",
   "pygments_lexer": "ipython2",
   "version": "2.7.13"
  }
 },
 "nbformat": 4,
 "nbformat_minor": 0
}
